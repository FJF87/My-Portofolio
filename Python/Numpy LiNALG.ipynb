{
  "nbformat": 4,
  "nbformat_minor": 0,
  "metadata": {
    "colab": {
      "provenance": []
    },
    "kernelspec": {
      "name": "python3",
      "display_name": "Python 3"
    },
    "language_info": {
      "name": "python"
    }
  },
  "cells": [
    {
      "cell_type": "code",
      "execution_count": null,
      "metadata": {
        "colab": {
          "base_uri": "https://localhost:8080/"
        },
        "id": "fqcB45gIQPGQ",
        "outputId": "f1d6217f-b457-42e4-89c5-347a26f8ca04"
      },
      "outputs": [
        {
          "output_type": "stream",
          "name": "stdout",
          "text": [
            "[ 2.20833333 -2.58333333 -0.18333333]\n"
          ]
        }
      ],
      "source": [
        "import numpy as np\n",
        "A = np.array([[4, 3, -5],\n",
        "              [-2, -4, 5],\n",
        "              [8, 8, 0]])\n",
        "y = np.array([2, 5, -3])\n",
        "\n",
        "x = np.linalg.solve(A,y)\n",
        "print(x)"
      ]
    },
    {
      "cell_type": "code",
      "source": [
        "A_inv = np.linalg.inv(A)\n",
        "\n",
        "x = np.dot(A_inv, y)\n",
        "print(x)"
      ],
      "metadata": {
        "id": "kY9MByI0SGOb",
        "outputId": "f397348a-d9ec-4f06-c093-161763ebe893",
        "colab": {
          "base_uri": "https://localhost:8080/"
        }
      },
      "execution_count": null,
      "outputs": [
        {
          "output_type": "stream",
          "name": "stdout",
          "text": [
            "[ 2.20833333 -2.58333333 -0.18333333]\n"
          ]
        }
      ]
    }
  ]
}